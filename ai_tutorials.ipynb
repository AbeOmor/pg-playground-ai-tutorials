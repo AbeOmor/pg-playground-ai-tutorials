{
 "cells": [
  {
   "cell_type": "markdown",
   "metadata": {},
   "source": [
    "Tutorials: https://microsofteur-my.sharepoint.com/:w:/g/personal/mpopovic_microsoft_com/ERSnEEAJkStHkCIHphxM3bcBhWK8o5BJmKlRlA_UKu_0Dw?e=kaaUT2"
   ]
  },
  {
   "cell_type": "markdown",
   "metadata": {},
   "source": [
    "## Example 1: Document similarity for a Content Management System  \n",
    "\n",
    "* Scenario: A content management system needs to identify similar articles to suggest related content to readers \n",
    "\n",
    "    * Prepare data in advance (‘articles’ table with ‘articleID’ and ‘content’ columns) \n",
    "    * Show how to embed content for each article \n",
    "    * Add embeddings to the table \n",
    "    * Find similar articles "
   ]
  },
  {
   "cell_type": "markdown",
   "metadata": {},
   "source": [
    "Data: https://github.com/luminati-io/Free-datasets/blob/main/twitter-posts.csv"
   ]
  },
  {
   "cell_type": "code",
   "execution_count": null,
   "metadata": {},
   "outputs": [],
   "source": []
  }
 ],
 "metadata": {
  "language_info": {
   "name": "python"
  }
 },
 "nbformat": 4,
 "nbformat_minor": 2
}
